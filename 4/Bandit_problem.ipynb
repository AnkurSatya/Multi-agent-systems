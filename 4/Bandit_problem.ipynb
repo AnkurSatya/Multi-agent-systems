{
 "cells": [
  {
   "cell_type": "code",
   "execution_count": 151,
   "id": "8c26a3e8",
   "metadata": {},
   "outputs": [],
   "source": [
    "import numpy as np\n",
    "import matplotlib.pyplot as plt"
   ]
  },
  {
   "cell_type": "code",
   "execution_count": 3,
   "id": "3191d494",
   "metadata": {},
   "outputs": [],
   "source": [
    "# A bandit gives a random reward from a particular Gaussian distribution.\n",
    "class Bandit:\n",
    "    def __init__(self, mean, std):\n",
    "        self.mean = mean\n",
    "        self.std = std\n",
    "        \n",
    "    def sample(self):\n",
    "        return np.random.normal(self.mean, self.std)"
   ]
  },
  {
   "cell_type": "code",
   "execution_count": 145,
   "id": "0688c116",
   "metadata": {},
   "outputs": [],
   "source": [
    "class MultiArmedBandit:\n",
    "    def __init__(self, num_arms=2, means=None, stds=1):\n",
    "        if means is None:\n",
    "            self.means = np.random.uniform(0, 5, num_arms)\n",
    "        else:\n",
    "            self.means = means\n",
    "        if stds is None:\n",
    "            self.stds = np.random.uniform(0, 3, num_arms)\n",
    "        else:\n",
    "            self.stds = stds\n",
    "        self.bandits = [Bandit(mean, std) for mean, std in zip(self.means, self.stds)]\n",
    "        self.arms_pulled = np.zeros(num_arms, dtype=int)\n",
    "        self.arms_rewards = np.zeros(num_arms)\n",
    "        self.arms_rewards_avg = np.zeros(num_arms)\n",
    "        self.num_arms = num_arms\n",
    "        self.actions = np.arange(0, num_arms)\n",
    "        self.epsilon_strategy_used = 0\n",
    "        \n",
    "        self.optimal_action_reward = np.max(self.means)\n",
    "        self.regrets = []\n",
    "        \n",
    "        \n",
    "    def reset(self):\n",
    "        self.__init__(self.num_arms, self.means, self.stds)\n",
    "        \n",
    "    def get_greedy_action(self):\n",
    "        return np.argmax(self.arms_rewards_avg)\n",
    "        \n",
    "    def action_selection(self, strategy=\"epsilon_greedy\", eps=None):\n",
    "        if strategy == \"epsilon_greedy\":\n",
    "            assert eps is not None\n",
    "            greedy_prob = eps + 1.0*(1-eps)/self.num_arms\n",
    "            action_probs = [(1-greedy_prob)/self.num_arms]*self.num_arms\n",
    "            action_probs[self.get_greedy_action()] = greedy_prob\n",
    "            action_probs[-1] += 1.0 - np.sum(action_probs)\n",
    "            \n",
    "            selected_action = np.random.choice(self.actions, p=action_probs)\n",
    "            if selected_action == self.get_greedy_action():\n",
    "                self.epsilon_strategy_used += 1\n",
    "            return selected_action\n",
    "            \n",
    "        \n",
    "    def sample(self, action):\n",
    "        reward = self.bandits[action].sample()\n",
    "        self.arms_pulled[action] += 1\n",
    "        self.arms_rewards[action] += reward\n",
    "        self.arms_rewards_avg[action] = 1.0*self.arms_rewards[action]/self.arms_pulled[action]\n",
    "        \n",
    "        self.regrets.append(self.optimal_action_reward - self.means[action])\n",
    "        return reward\n",
    "    \n",
    "    def get_state(self):\n",
    "        return self.arms_rewards, self.arms_pulled, self.arms_rewards_avg\n",
    "    \n",
    "    def get_regret_cumsum(self):\n",
    "        return np.cumsum(self.regrets)"
   ]
  },
  {
   "cell_type": "markdown",
   "id": "1e7b09e1",
   "metadata": {},
   "source": [
    "## Epsilon greedy approach"
   ]
  },
  {
   "cell_type": "code",
   "execution_count": 211,
   "id": "8021ebab",
   "metadata": {},
   "outputs": [],
   "source": [
    "### ToDo: Repeat the experiment with each value of epsilon to evaluate the expected value of L(t)"
   ]
  },
  {
   "cell_type": "code",
   "execution_count": 212,
   "id": "fde4869f",
   "metadata": {},
   "outputs": [],
   "source": [
    "num_arms = 5\n",
    "means = np.random.uniform(0, 6, num_arms) \n",
    "stds = [1]*num_arms\n",
    "\n",
    "strategy=\"epsilon_greedy\"\n",
    "num_experiments = 100\n",
    "num_iterations = 1000\n",
    "eps_values = 0.5 + 0.1 * np.arange(0, 5)\n",
    "\n",
    "expected_regret_cumsum_values = dict()\n",
    "\n",
    "multi_bandit = MultiArmedBandit(num_arms=num_arms, means=means, stds=stds)\n",
    "\n",
    "for eps in eps_values:\n",
    "    all_exps_regret_cumsum = []\n",
    "    for num_exp in range(1, num_experiments+1):\n",
    "        for i in range(num_iterations):\n",
    "            multi_bandit.sample(multi_bandit.action_selection(strategy=strategy, eps=eps))\n",
    "\n",
    "            expected_regret_cumsum_values[eps] = multi_bandit.get_regret_cumsum()\n",
    "            \n",
    "#         if num_exp == 1:\n",
    "#             new_expected_regret_cumsum = new_regret_cumsum\n",
    "#         else:\n",
    "#             new_expected_regret_cumsum = [1.0*(old_mean*(num_exp-1) + new_val)/num_exp for new_val, \n",
    "#                                           old_mean in zip(new_regret_cumsum, \n",
    "#                                                           expected_regret_cumsum_values[eps])]\n",
    "            \n",
    "        multi_bandit.reset()"
   ]
  },
  {
   "cell_type": "code",
   "execution_count": 213,
   "id": "210b1b5b",
   "metadata": {},
   "outputs": [
    {
     "data": {
      "text/plain": [
       "<matplotlib.legend.Legend at 0x7f02e7768460>"
      ]
     },
     "execution_count": 213,
     "metadata": {},
     "output_type": "execute_result"
    },
    {
     "data": {
      "image/png": "[encoded data removed]",
      "text/plain": [
       "<Figure size 432x288 with 1 Axes>"
      ]
     },
     "metadata": {
      "needs_background": "light"
     },
     "output_type": "display_data"
    }
   ],
   "source": [
    "for key, value in regret_cumsum_values.items():\n",
    "    plt.plot(np.arange(1, num_iterations+1), value, label=key)\n",
    "    \n",
    "plt.legend()"
   ]
  },
  {
   "cell_type": "code",
   "execution_count": null,
   "id": "8a16ceb3",
   "metadata": {},
   "outputs": [],
   "source": [
    "plt"
   ]
  }
 ],
 "metadata": {
  "kernelspec": {
   "display_name": "Python 3 (ipykernel)",
   "language": "python",
   "name": "python3"
  },
  "language_info": {
   "codemirror_mode": {
    "name": "ipython",
    "version": 3
   },
   "file_extension": ".py",
   "mimetype": "text/x-python",
   "name": "python",
   "nbconvert_exporter": "python",
   "pygments_lexer": "ipython3",
   "version": "3.9.8"
  }
 },
 "nbformat": 4,
 "nbformat_minor": 5
}
