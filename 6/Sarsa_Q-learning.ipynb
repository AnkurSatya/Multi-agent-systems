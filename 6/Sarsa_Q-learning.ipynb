{
 "cells": [
  {
   "cell_type": "code",
   "execution_count": 1,
   "id": "2fab3923",
   "metadata": {},
   "outputs": [],
   "source": [
    "import numpy as np\n",
    "import matplotlib.pyplot as plt"
   ]
  },
  {
   "cell_type": "code",
   "execution_count": 266,
   "id": "fcfccb52",
   "metadata": {},
   "outputs": [],
   "source": [
    "class Grid:\n",
    "    def __init__(self, nrows, ncols, pos_start, pos_goal, pos_obstacles, epsilon=0.9):\n",
    "        self.nrows = nrows\n",
    "        self.ncols = ncols\n",
    "        self.grid = np.zeros((nrows, ncols))\n",
    "        self.pos_start = pos_start\n",
    "        self.pos_goal = pos_goal\n",
    "        self.pos_obstacles = pos_obstacles\n",
    "        self.epsilon = epsilon\n",
    "        \n",
    "        self.UP = 0\n",
    "        self.RIGHT = 1\n",
    "        self.DOWN = 2\n",
    "        self.LEFT = 3\n",
    "        \n",
    "        self.set_grid()\n",
    "        self.Q = self.initialise_q_values()\n",
    "    \n",
    "    def set_grid(self):\n",
    "        self.grid[self.pos_start] = 1\n",
    "        self.grid[self.pos_goal] = 2\n",
    "        self.grid[self.pos_obstacles[:, 0], self.pos_obstacles[:, 1]] = 3\n",
    "        \n",
    "    def initialise_q_values(self):\n",
    "        Q = np.random.rand(nrows, ncols, 4)\n",
    "        Q[self.pos_goal[0], self.pos_goal[1], :] = [0]*4\n",
    "        return Q\n",
    "        \n",
    "    def get_available_actions(self, state):\n",
    "        \n",
    "        assert state[0] >=0 and state[0] < self.nrows, \"Row index excedded\"\n",
    "            \n",
    "        assert state[1] >=0 and state[1] < self.ncols, \"Column index excedded\"\n",
    "        \n",
    "        if state[0] == 0:\n",
    "            if state[1] == 0:\n",
    "                return [self.UP, self.RIGHT]\n",
    "            elif state[1] == self.ncols-1:\n",
    "                return [self.UP, self.LEFT]\n",
    "            else:\n",
    "                return [self.UP, self.RIGHT, self.LEFT]\n",
    "        elif state[0] == self.nrows - 1:\n",
    "            if state[1] == 0:\n",
    "                return [self.RIGHT, self.DOWN]\n",
    "            elif state[1] == self.ncols-1:\n",
    "                return [self.DOWN, self.LEFT]\n",
    "            else:\n",
    "                return [self.RIGHT, self.DOWN, self.LEFT]    \n",
    "        elif state[1] == 0:\n",
    "            return [self.UP, self.RIGHT, self.DOWN]\n",
    "        elif state[1] == self.ncols - 1:\n",
    "            return [self.UP, self.DOWN, self.LEFT]\n",
    "        else:\n",
    "            return [self.UP, self.RIGHT, self.DOWN, self.LEFT]        \n",
    "    \n",
    "    def choose_action(self, state, epsilon):\n",
    "        actions = [0, 1, 2, 3]\n",
    "#         print(\"state: \", state)\n",
    "#         print(\"Q values: \", self.Q[state])\n",
    "        max_q_value_idx = np.argmax(self.Q[state])\n",
    "        \n",
    "        greedy_prob = epsilon + (1.0-epsilon)/len(actions)\n",
    "        rem_prob = (1.0 - greedy_prob)/(len(actions) - 1)\n",
    "        \n",
    "        probs = [rem_prob]*len(actions)\n",
    "        probs[max_q_value_idx] = greedy_prob\n",
    "        \n",
    "        return np.random.choice(actions, p=probs)\n",
    "    \n",
    "    def step(self, state):\n",
    "        chosen_action = None\n",
    "        \n",
    "        while True:\n",
    "            action = self.choose_action(state, self.epsilon)\n",
    "            if action in self.get_available_actions(state):\n",
    "                chosen_action = action\n",
    "                break\n",
    "        \n",
    "        new_state = None\n",
    "        if chosen_action == 0:\n",
    "            new_state = (state[0]+1, state[1])\n",
    "        elif chosen_action == 1:\n",
    "            new_state = (state[0], state[1]+1)\n",
    "        elif chosen_action == 2:\n",
    "            new_state = (state[0]-1, state[1])\n",
    "        else:\n",
    "            new_state = (state[0], state[1]-1)\n",
    "            \n",
    "        return new_state\n",
    "    \n",
    "    def get_reward(self, state_1):\n",
    "        if self.grid[state_1] == 2:\n",
    "            return 20\n",
    "        elif self.grid[state_1] == 3:\n",
    "            return -100\n",
    "        else:\n",
    "            return -1\n",
    "        \n",
    "        \n",
    "    def plot_grid(self):\n",
    "        self.grid[self.pos_start] = 2\n",
    "        self.grid[self.pos_goal] = 2\n",
    "        plt.imshow(np.flip(self.grid, axis=0))"
   ]
  },
  {
   "cell_type": "code",
   "execution_count": 267,
   "id": "1e87dfdf",
   "metadata": {},
   "outputs": [],
   "source": [
    "nrows, ncols = 4, 21\n",
    "pos_start = (0,0)\n",
    "pos_goal = (0, 20)\n",
    "pos_obstacles = np.array([(0, i) for i in range(1, ncols-1)])\n",
    "\n",
    "grid = Grid(nrows, ncols, pos_start, pos_goal, pos_obstacles)"
   ]
  },
  {
   "cell_type": "code",
   "execution_count": 282,
   "id": "1dd28275",
   "metadata": {},
   "outputs": [
    {
     "data": {
      "text/plain": [
       "(3, 19)"
      ]
     },
     "execution_count": 282,
     "metadata": {},
     "output_type": "execute_result"
    }
   ],
   "source": [
    "state=pos_start\n",
    "grid.step((3, 20))"
   ]
  },
  {
   "cell_type": "code",
   "execution_count": 252,
   "id": "1a5c703d",
   "metadata": {},
   "outputs": [
    {
     "data": {
      "text/plain": [
       "array([0.14387393, 0.28822011, 0.29245218, 0.98957469])"
      ]
     },
     "execution_count": 252,
     "metadata": {},
     "output_type": "execute_result"
    }
   ],
   "source": [
    "grid.Q[(3, 20)]"
   ]
  },
  {
   "cell_type": "code",
   "execution_count": null,
   "id": "53486670",
   "metadata": {},
   "outputs": [],
   "source": []
  }
 ],
 "metadata": {
  "kernelspec": {
   "display_name": "Python 3 (ipykernel)",
   "language": "python",
   "name": "python3"
  },
  "language_info": {
   "codemirror_mode": {
    "name": "ipython",
    "version": 3
   },
   "file_extension": ".py",
   "mimetype": "text/x-python",
   "name": "python",
   "nbconvert_exporter": "python",
   "pygments_lexer": "ipython3",
   "version": "3.9.12"
  }
 },
 "nbformat": 4,
 "nbformat_minor": 5
}
