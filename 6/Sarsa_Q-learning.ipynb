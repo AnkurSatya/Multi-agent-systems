{
 "cells": [
  {
   "cell_type": "code",
   "execution_count": 1,
   "id": "a7d6c906",
   "metadata": {},
   "outputs": [],
   "source": [
    "import numpy as np\n",
    "import matplotlib.pyplot as plt"
   ]
  },
  {
   "cell_type": "code",
   "execution_count": 72,
   "id": "1d3bc5c7",
   "metadata": {},
   "outputs": [],
   "source": [
    "class Grid:\n",
    "    def __init__(self, nrows, ncols, pos_start, pos_goal, pos_obstacles):\n",
    "        self.grid = np.zeros((nrows, ncols))\n",
    "        self.pos_start = pos_start\n",
    "        self.pos_goal = pos_goal\n",
    "        self.pos_obstacles = pos_obstacles\n",
    "        \n",
    "        self.UP = 0\n",
    "        self.RIGHT = 1\n",
    "        self.DOWN = 2\n",
    "        self.LEFT = 3\n",
    "        \n",
    "        self.set_grid()\n",
    "        self.Q = self.initialise_q_values()\n",
    "        self.action_space = set_actions()\n",
    "        \n",
    "    def initialise_q_values(self):\n",
    "        Q = np.random.rand(nrows, ncols, 4)\n",
    "        Q[self.pos_goal[0], self.pos_goal[1], :] = [0]*4\n",
    "        return Q\n",
    "    \n",
    "    def set_grid(self):\n",
    "        self.grid[self.pos_start] = 1\n",
    "        self.grid[self.pos_goal] = 2\n",
    "        self.grid[self.pos_obstacles[:, 0], self.pos_obstacles[:, 1]] = 3\n",
    "        \n",
    "    def set_actions(self):\n",
    "        action_space = np.empty(self.grid.shape)\n",
    "        \n",
    "        action_space[self.pos_start]\n",
    "        \n",
    "    \n",
    "    \n",
    "    def choose_action(self):\n",
    "        # Limit what state transitions are possible here i.e define probabilites for the end cells as such.\n",
    "    \n",
    "    def step(self, action):\n",
    "        \n",
    "    \n",
    "    def get_reward(self, state_1):\n",
    "        if self.grid[state_1] == 2:\n",
    "            return 20\n",
    "        elif self.grid[state_1] == 3:\n",
    "            return -100\n",
    "        else:\n",
    "            return -1\n",
    "        \n",
    "        \n",
    "    def plot_grid(self):\n",
    "        self.grid[self.pos_start] = 2\n",
    "        self.grid[self.pos_goal] = 2\n",
    "        plt.imshow(np.flip(self.grid, axis=0))"
   ]
  },
  {
   "cell_type": "code",
   "execution_count": 73,
   "id": "46fbea3b",
   "metadata": {},
   "outputs": [],
   "source": [
    "nrows, ncols = 4, 21\n",
    "pos_start = (0,0)\n",
    "pos_goal = (0, 20)\n",
    "pos_obstacles = np.array([(0, i) for i in range(1, ncols-1)])\n",
    "\n",
    "grid = Grid(nrows, ncols, pos_start, pos_goal, pos_obstacles)"
   ]
  },
  {
   "cell_type": "code",
   "execution_count": 75,
   "id": "b68fb563",
   "metadata": {},
   "outputs": [
    {
     "data": {
      "text/plain": [
       "array([0., 0., 0., 0.])"
      ]
     },
     "execution_count": 75,
     "metadata": {},
     "output_type": "execute_result"
    }
   ],
   "source": [
    "grid.Q[0, 20, :]"
   ]
  },
  {
   "cell_type": "code",
   "execution_count": 93,
   "id": "72311980",
   "metadata": {},
   "outputs": [],
   "source": [
    "arr = np.empty((4,4))"
   ]
  },
  {
   "cell_type": "code",
   "execution_count": 100,
   "id": "636b0905",
   "metadata": {},
   "outputs": [],
   "source": [
    "arr[0, :] = [0,1]*2"
   ]
  },
  {
   "cell_type": "code",
   "execution_count": 101,
   "id": "c42e8e6b",
   "metadata": {},
   "outputs": [
    {
     "data": {
      "text/plain": [
       "array([[0.00000000e+000, 1.00000000e+000, 0.00000000e+000,\n",
       "        1.00000000e+000],\n",
       "       [0.00000000e+000, 0.00000000e+000, 0.00000000e+000,\n",
       "        0.00000000e+000],\n",
       "       [0.00000000e+000, 0.00000000e+000, 0.00000000e+000,\n",
       "        0.00000000e+000],\n",
       "       [0.00000000e+000, 0.00000000e+000, 0.00000000e+000,\n",
       "        4.68314162e-310]])"
      ]
     },
     "execution_count": 101,
     "metadata": {},
     "output_type": "execute_result"
    }
   ],
   "source": [
    "arr"
   ]
  },
  {
   "cell_type": "code",
   "execution_count": null,
   "id": "17a062ea",
   "metadata": {},
   "outputs": [],
   "source": []
  }
 ],
 "metadata": {
  "kernelspec": {
   "display_name": "Python 3 (ipykernel)",
   "language": "python",
   "name": "python3"
  },
  "language_info": {
   "codemirror_mode": {
    "name": "ipython",
    "version": 3
   },
   "file_extension": ".py",
   "mimetype": "text/x-python",
   "name": "python",
   "nbconvert_exporter": "python",
   "pygments_lexer": "ipython3",
   "version": "3.9.12"
  }
 },
 "nbformat": 4,
 "nbformat_minor": 5
}
