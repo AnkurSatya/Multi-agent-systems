{
 "cells": [
  {
   "cell_type": "code",
   "execution_count": 1,
   "id": "2fce11ea",
   "metadata": {},
   "outputs": [],
   "source": [
    "import numpy as np\n",
    "import random\n",
    "import matplotlib.pyplot as plt\n",
    "import multiprocessing\n",
    "import time\n",
    "import pickle"
   ]
  },
  {
   "cell_type": "code",
   "execution_count": 2,
   "id": "c20c2c95",
   "metadata": {},
   "outputs": [],
   "source": [
    "N=10**6\n",
    "num_mc_iters = 10**3\n",
    "probabilities = [10**-4, 5*10**-4, 10**-3, 5*10**-3, 10**-2, 5*10**-2, 10**-1]"
   ]
  },
  {
   "cell_type": "code",
   "execution_count": 3,
   "id": "b3038e2b",
   "metadata": {},
   "outputs": [],
   "source": [
    "def find_multiples(num):\n",
    "    multiples = []\n",
    "    for i in range(1, num+1):\n",
    "        if num%i == 0:\n",
    "            multiples.append(i)\n",
    "            \n",
    "    return multiples\n",
    "\n",
    "def run_mc(args):\n",
    "    N, num_mc_iters, p, p_batch_and_num_tests = args\n",
    "    batch_and_num_tests = dict()\n",
    "\n",
    "    for k in find_multiples(N):\n",
    "        num_tests = 0\n",
    "        for _ in range(num_mc_iters):\n",
    "            infected_set = set(random.sample(range(1, N+1), int(p*N)))\n",
    "\n",
    "            def check_infected(batch):\n",
    "                return len(batch) if len(set(batch).intersection(infected_set)) > 0 else 0\n",
    "\n",
    "\n",
    "            batches = np.arange(1, N+1).reshape(N//k, k)\n",
    "            result = sum(np.array(list(map(check_infected, batches))))\n",
    "            num_tests += result\n",
    "            num_tests += batches.shape[0]\n",
    "\n",
    "\n",
    "        batch_and_num_tests[k] = num_tests/num_mc_iters\n",
    "        \n",
    "    p_batch_and_num_tests[p] = batch_and_num_tests\n",
    "    \n",
    "    return p_batch_and_num_tests"
   ]
  },
  {
   "cell_type": "code",
   "execution_count": null,
   "id": "b7b0ac13",
   "metadata": {},
   "outputs": [],
   "source": [
    "start_time = time.perf_counter()\n",
    "processes = []\n",
    "\n",
    "manager = multiprocessing.Manager()\n",
    "p_batch_and_num_tests = manager.dict()\n",
    "\n",
    "for i in range(len(probabilities)):\n",
    "    args = [N, num_mc_iters, probabilities[i], p_batch_and_num_tests]\n",
    "    p = multiprocessing.Process(target = run_mc, args=(args,))\n",
    "    p.start()\n",
    "    processes.append(p)\n",
    "\n",
    "# Joins all the processes \n",
    "for p in processes:\n",
    "    p.join()\n",
    "\n",
    "finish_time = time.perf_counter()\n",
    "\n",
    "print(f\"Program finished in {finish_time-start_time} seconds\")"
   ]
  },
  {
   "cell_type": "code",
   "execution_count": null,
   "id": "b0eef980",
   "metadata": {},
   "outputs": [],
   "source": [
    "p_batch_and_num_tests.items(\n",
    ")"
   ]
  },
  {
   "cell_type": "code",
   "execution_count": null,
   "id": "681d9adc",
   "metadata": {},
   "outputs": [],
   "source": [
    "plt.figure(figsize=(15, 15))\n",
    "\n",
    "for p, p_data in p_batch_and_num_tests\n",
    ".items():\n",
    "    plt.plot(p_data.keys(), p_data.values(), label=p)\n",
    "    \n",
    "plt.xlim(0, 100)\n",
    "plt.xlabel(\"Batch size\")\n",
    "plt.ylabel(\"Num tests conducted\")\n",
    "plt.legend()"
   ]
  },
  {
   "cell_type": "code",
   "execution_count": null,
   "id": "694341a5",
   "metadata": {},
   "outputs": [],
   "source": []
  }
 ],
 "metadata": {
  "kernelspec": {
   "display_name": "Python 3 (ipykernel)",
   "language": "python",
   "name": "python3"
  },
  "language_info": {
   "codemirror_mode": {
    "name": "ipython",
    "version": 3
   },
   "file_extension": ".py",
   "mimetype": "text/x-python",
   "name": "python",
   "nbconvert_exporter": "python",
   "pygments_lexer": "ipython3",
   "version": "3.9.12"
  }
 },
 "nbformat": 4,
 "nbformat_minor": 5
}
